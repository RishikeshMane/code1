{
 "cells": [
  {
   "cell_type": "code",
   "execution_count": 1,
   "metadata": {},
   "outputs": [],
   "source": [
    "import pandas as pd\n",
    "from nltk.tokenize import word_tokenize\n"
   ]
  },
  {
   "cell_type": "code",
   "execution_count": 3,
   "metadata": {
    "jupyter": {
     "outputs_hidden": false,
     "source_hidden": false
    },
    "nteract": {
     "transient": {
      "deleting": false
     }
    }
   },
   "outputs": [
    {
     "data": {
      "application/vnd.livy.statement-meta+json": {
       "execution_finish_time": "2023-09-30T20:12:30.8843921Z",
       "execution_start_time": "2023-09-30T20:12:30.7132726Z",
       "livy_statement_state": "available",
       "parent_msg_id": "a5e61ec5-71ed-466d-b062-367952511e00",
       "queued_time": "2023-09-30T20:12:30.5789488Z",
       "session_id": "6",
       "session_start_time": null,
       "spark_jobs": null,
       "spark_pool": "firstpoolv1",
       "state": "finished",
       "statement_id": 4
      },
      "text/plain": [
       "StatementMeta(firstpoolv1, 6, 4, Finished, Available)"
      ]
     },
     "metadata": {},
     "output_type": "display_data"
    },
    {
     "data": {
      "text/html": [
       "\n",
       "            <div>\n",
       "                <p><b>SparkSession - hive</b></p>\n",
       "                \n",
       "        <div>\n",
       "            <p><b>SparkContext</b></p>\n",
       "\n",
       "            <p><a href=\"https://web.azuresynapse.net/sparkui/a10bca52-95bc-4f85-9dc2-96709f310b42/workspaces/companyetlv1/sparkpools/firstpoolv1/sessions/6/applications/application_1696104579127_0001\">Spark UI</a></p>\n",
       "\n",
       "            <dl>\n",
       "              <dt>Version</dt>\n",
       "                <dd><code>v3.3.1.5.2-103972870</code></dd>\n",
       "              <dt>Master</dt>\n",
       "                <dd><code>yarn</code></dd>\n",
       "              <dt>AppName</dt>\n",
       "                <dd><code>notebook1_firstpoolv1_1696104487</code></dd>\n",
       "            </dl>\n",
       "        </div>\n",
       "        \n",
       "            </div>\n",
       "        "
      ],
      "text/plain": [
       "<pyspark.sql.session.SparkSession at 0x7f8c1d44bdc0>"
      ]
     },
     "execution_count": 9,
     "metadata": {},
     "output_type": "execute_result"
    }
   ],
   "source": [
    "# spark"
   ]
  },
  {
   "cell_type": "code",
   "execution_count": 4,
   "metadata": {
    "jupyter": {
     "outputs_hidden": false,
     "source_hidden": false
    },
    "nteract": {
     "transient": {
      "deleting": false
     }
    }
   },
   "outputs": [
    {
     "data": {
      "application/vnd.livy.statement-meta+json": {
       "execution_finish_time": "2023-09-30T20:12:58.441059Z",
       "execution_start_time": "2023-09-30T20:12:33.177754Z",
       "livy_statement_state": "available",
       "parent_msg_id": "5cb5b4f1-d31a-4267-9664-182d0b556d21",
       "queued_time": "2023-09-30T20:12:33.0400577Z",
       "session_id": "6",
       "session_start_time": null,
       "spark_jobs": null,
       "spark_pool": "firstpoolv1",
       "state": "finished",
       "statement_id": 5
      },
      "text/plain": [
       "StatementMeta(firstpoolv1, 6, 5, Finished, Available)"
      ]
     },
     "metadata": {},
     "output_type": "display_data"
    }
   ],
   "source": [
    "# sparkdf = spark.read.load('abfss://csvcompanydata@foretldatav1.dfs.core.windows.net/companykaggledata/copieddata.csv',format='csv',header=True,index=False);"
   ]
  },
  {
   "cell_type": "code",
   "execution_count": 7,
   "metadata": {
    "jupyter": {
     "outputs_hidden": false,
     "source_hidden": false
    },
    "nteract": {
     "transient": {
      "deleting": false
     }
    }
   },
   "outputs": [
    {
     "data": {
      "application/vnd.livy.statement-meta+json": {
       "execution_finish_time": "2023-09-30T20:13:40.1403883Z",
       "execution_start_time": "2023-09-30T20:13:38.2265488Z",
       "livy_statement_state": "available",
       "parent_msg_id": "d64b3966-6a15-4254-a91b-f3087dba1351",
       "queued_time": "2023-09-30T20:13:38.0844859Z",
       "session_id": "6",
       "session_start_time": null,
       "spark_jobs": null,
       "spark_pool": "firstpoolv1",
       "state": "finished",
       "statement_id": 8
      },
      "text/plain": [
       "StatementMeta(firstpoolv1, 6, 8, Finished, Available)"
      ]
     },
     "metadata": {},
     "output_type": "display_data"
    }
   ],
   "source": [
    "# import plotly.express as px\n",
    "# pandasDF = sparkdf.toPandas()\n",
    "# #print(pandasDF)\n",
    "\n"
   ]
  },
  {
   "cell_type": "code",
   "execution_count": 1,
   "metadata": {
    "jupyter": {
     "outputs_hidden": false,
     "source_hidden": false
    },
    "nteract": {
     "transient": {
      "deleting": false
     }
    }
   },
   "outputs": [
    {
     "ename": "NameError",
     "evalue": "name 'pandasDF' is not defined",
     "output_type": "error",
     "traceback": [
      "\u001b[0;31m---------------------------------------------------------------------------\u001b[0m",
      "\u001b[0;31mNameError\u001b[0m                                 Traceback (most recent call last)",
      "Cell \u001b[0;32mIn[1], line 1\u001b[0m\n\u001b[0;32m----> 1\u001b[0m pandasDF[:\u001b[38;5;241m20\u001b[39m]\n",
      "\u001b[0;31mNameError\u001b[0m: name 'pandasDF' is not defined"
     ]
    }
   ],
   "source": [
    "pandasDF[:20]"
   ]
  },
  {
   "cell_type": "code",
   "execution_count": null,
   "metadata": {},
   "outputs": [],
   "source": []
  },
  {
   "cell_type": "code",
   "execution_count": 9,
   "metadata": {
    "jupyter": {
     "outputs_hidden": false,
     "source_hidden": false
    },
    "nteract": {
     "transient": {
      "deleting": false
     }
    }
   },
   "outputs": [
    {
     "data": {
      "application/vnd.livy.statement-meta+json": {
       "execution_finish_time": "2023-09-30T20:14:19.5265973Z",
       "execution_start_time": "2023-09-30T20:14:19.3320179Z",
       "livy_statement_state": "available",
       "parent_msg_id": "c778c8c8-090c-4df1-9ede-f4176a94af93",
       "queued_time": "2023-09-30T20:14:19.1748286Z",
       "session_id": "6",
       "session_start_time": null,
       "spark_jobs": null,
       "spark_pool": "firstpoolv1",
       "state": "finished",
       "statement_id": 10
      },
      "text/plain": [
       "StatementMeta(firstpoolv1, 6, 10, Finished, Available)"
      ]
     },
     "metadata": {},
     "output_type": "display_data"
    }
   ],
   "source": [
    "nameofcompany = pandasDF['name']\n",
    "ratingofcompany = pandasDF['rating']\n",
    "reviewsofcompany = pandasDF['reviews']"
   ]
  },
  {
   "cell_type": "code",
   "execution_count": 10,
   "metadata": {
    "jupyter": {
     "outputs_hidden": false,
     "source_hidden": false
    },
    "nteract": {
     "transient": {
      "deleting": false
     }
    }
   },
   "outputs": [
    {
     "data": {
      "application/vnd.livy.statement-meta+json": {
       "execution_finish_time": "2023-09-30T20:14:22.1360492Z",
       "execution_start_time": "2023-09-30T20:14:21.9642264Z",
       "livy_statement_state": "available",
       "parent_msg_id": "2f35cafa-d663-443c-96c7-db8b4776b2cd",
       "queued_time": "2023-09-30T20:14:21.7848061Z",
       "session_id": "6",
       "session_start_time": null,
       "spark_jobs": null,
       "spark_pool": "firstpoolv1",
       "state": "finished",
       "statement_id": 11
      },
      "text/plain": [
       "StatementMeta(firstpoolv1, 6, 11, Finished, Available)"
      ]
     },
     "metadata": {},
     "output_type": "display_data"
    },
    {
     "name": "stdout",
     "output_type": "stream",
     "text": [
      "75217\n",
      "75217\n",
      "75217\n"
     ]
    }
   ],
   "source": [
    "count1 = 0\n",
    "for i in nameofcompany:\n",
    "    count1 = count1 + 1\n",
    "\n",
    "count2 = 0\n",
    "for i in ratingofcompany:\n",
    "    count2 = count2 + 1\n",
    "\n",
    "count3 = 0\n",
    "for i in reviewsofcompany:\n",
    "    count3 = count3 + 1\n",
    "\n",
    "print(count1)\n",
    "print(count2)\n",
    "print(count3)"
   ]
  },
  {
   "cell_type": "code",
   "execution_count": 11,
   "metadata": {
    "jupyter": {
     "outputs_hidden": false,
     "source_hidden": false
    },
    "nteract": {
     "transient": {
      "deleting": false
     }
    }
   },
   "outputs": [
    {
     "data": {
      "application/vnd.livy.statement-meta+json": {
       "execution_finish_time": "2023-09-30T20:14:26.834509Z",
       "execution_start_time": "2023-09-30T20:14:26.673489Z",
       "livy_statement_state": "available",
       "parent_msg_id": "ca83a3a8-4173-4ed3-a9ea-b7bb3f5dc8ec",
       "queued_time": "2023-09-30T20:14:26.5450417Z",
       "session_id": "6",
       "session_start_time": null,
       "spark_jobs": null,
       "spark_pool": "firstpoolv1",
       "state": "finished",
       "statement_id": 12
      },
      "text/plain": [
       "StatementMeta(firstpoolv1, 6, 12, Finished, Available)"
      ]
     },
     "metadata": {},
     "output_type": "display_data"
    }
   ],
   "source": [
    "newdatafram1 = pandasDF[['name','rating','reviews','description']]"
   ]
  },
  {
   "cell_type": "code",
   "execution_count": 12,
   "metadata": {
    "jupyter": {
     "outputs_hidden": false,
     "source_hidden": false
    },
    "nteract": {
     "transient": {
      "deleting": false
     }
    }
   },
   "outputs": [
    {
     "data": {
      "application/vnd.livy.statement-meta+json": {
       "execution_finish_time": "2023-09-30T20:14:36.6566164Z",
       "execution_start_time": "2023-09-30T20:14:36.4860706Z",
       "livy_statement_state": "available",
       "parent_msg_id": "2edd749b-a93a-4fcf-b4ff-c36cd85722f9",
       "queued_time": "2023-09-30T20:14:36.3429812Z",
       "session_id": "6",
       "session_start_time": null,
       "spark_jobs": null,
       "spark_pool": "firstpoolv1",
       "state": "finished",
       "statement_id": 13
      },
      "text/plain": [
       "StatementMeta(firstpoolv1, 6, 13, Finished, Available)"
      ]
     },
     "metadata": {},
     "output_type": "display_data"
    },
    {
     "data": {
      "text/plain": [
       "75217"
      ]
     },
     "execution_count": 27,
     "metadata": {},
     "output_type": "execute_result"
    }
   ],
   "source": [
    "len(newdatafram1)"
   ]
  },
  {
   "cell_type": "code",
   "execution_count": 13,
   "metadata": {
    "jupyter": {
     "outputs_hidden": false,
     "source_hidden": false
    },
    "nteract": {
     "transient": {
      "deleting": false
     }
    }
   },
   "outputs": [
    {
     "data": {
      "application/vnd.livy.statement-meta+json": {
       "execution_finish_time": "2023-09-30T20:14:37.7580723Z",
       "execution_start_time": "2023-09-30T20:14:37.5875258Z",
       "livy_statement_state": "available",
       "parent_msg_id": "91d587a0-b215-474a-8c6a-3c9b8fd12cc4",
       "queued_time": "2023-09-30T20:14:37.433085Z",
       "session_id": "6",
       "session_start_time": null,
       "spark_jobs": null,
       "spark_pool": "firstpoolv1",
       "state": "finished",
       "statement_id": 14
      },
      "text/plain": [
       "StatementMeta(firstpoolv1, 6, 14, Finished, Available)"
      ]
     },
     "metadata": {},
     "output_type": "display_data"
    },
    {
     "data": {
      "text/html": [
       "<div>\n",
       "<style scoped>\n",
       "    .dataframe tbody tr th:only-of-type {\n",
       "        vertical-align: middle;\n",
       "    }\n",
       "\n",
       "    .dataframe tbody tr th {\n",
       "        vertical-align: top;\n",
       "    }\n",
       "\n",
       "    .dataframe thead th {\n",
       "        text-align: right;\n",
       "    }\n",
       "</style>\n",
       "<table border=\"1\" class=\"dataframe\">\n",
       "  <thead>\n",
       "    <tr style=\"text-align: right;\">\n",
       "      <th></th>\n",
       "      <th>name</th>\n",
       "      <th>rating</th>\n",
       "      <th>reviews</th>\n",
       "      <th>description</th>\n",
       "    </tr>\n",
       "  </thead>\n",
       "  <tbody>\n",
       "    <tr>\n",
       "      <th>0</th>\n",
       "      <td>Sitel</td>\n",
       "      <td>None</td>\n",
       "      <td>None</td>\n",
       "      <td>Sitel Group’s 75,000 people across the globe c...</td>\n",
       "    </tr>\n",
       "    <tr>\n",
       "      <th>1</th>\n",
       "      <td>We are redefining the contact center and impro...</td>\n",
       "      <td>emotion and empathy of our people. As a CX pl...</td>\n",
       "      <td>we are powered by experts to deliver tailored...</td>\n",
       "      <td>customer-centric approach adding value at eve...</td>\n",
       "    </tr>\n",
       "    <tr>\n",
       "      <th>2</th>\n",
       "      <td>Learn more at www.sitel.com and connect with u...</td>\n",
       "      <td>LinkedIn and Twitter. – less\"</td>\n",
       "      <td>{'Work Happiness Score': '55', 'Achievement': ...</td>\n",
       "      <td>70%</td>\n",
       "    </tr>\n",
       "    <tr>\n",
       "      <th>3</th>\n",
       "      <td>Facebook</td>\n",
       "      <td>None</td>\n",
       "      <td>None</td>\n",
       "      <td>None</td>\n",
       "    </tr>\n",
       "    <tr>\n",
       "      <th>4</th>\n",
       "      <td>Sitel website\"</td>\n",
       "      <td>None</td>\n",
       "      <td>None</td>\n",
       "      <td>None</td>\n",
       "    </tr>\n",
       "  </tbody>\n",
       "</table>\n",
       "</div>"
      ],
      "text/plain": [
       "                                                name  \\\n",
       "0                                              Sitel   \n",
       "1  We are redefining the contact center and impro...   \n",
       "2  Learn more at www.sitel.com and connect with u...   \n",
       "3                                           Facebook   \n",
       "4                                     Sitel website\"   \n",
       "\n",
       "                                              rating  \\\n",
       "0                                               None   \n",
       "1   emotion and empathy of our people. As a CX pl...   \n",
       "2                      LinkedIn and Twitter. – less\"   \n",
       "3                                               None   \n",
       "4                                               None   \n",
       "\n",
       "                                             reviews  \\\n",
       "0                                               None   \n",
       "1   we are powered by experts to deliver tailored...   \n",
       "2  {'Work Happiness Score': '55', 'Achievement': ...   \n",
       "3                                               None   \n",
       "4                                               None   \n",
       "\n",
       "                                         description  \n",
       "0  Sitel Group’s 75,000 people across the globe c...  \n",
       "1   customer-centric approach adding value at eve...  \n",
       "2                                                70%  \n",
       "3                                               None  \n",
       "4                                               None  "
      ]
     },
     "execution_count": 29,
     "metadata": {},
     "output_type": "execute_result"
    }
   ],
   "source": [
    "newdatafram1[:5]"
   ]
  },
  {
   "cell_type": "code",
   "execution_count": 31,
   "metadata": {
    "jupyter": {
     "outputs_hidden": false,
     "source_hidden": false
    },
    "nteract": {
     "transient": {
      "deleting": false
     }
    }
   },
   "outputs": [
    {
     "data": {
      "application/vnd.livy.statement-meta+json": {
       "execution_finish_time": "2023-09-30T20:34:31.8410292Z",
       "execution_start_time": "2023-09-30T20:34:31.6737147Z",
       "livy_statement_state": "available",
       "parent_msg_id": "35b2d90e-48bd-4944-b2eb-d8daef150164",
       "queued_time": "2023-09-30T20:34:31.4969109Z",
       "session_id": "6",
       "session_start_time": null,
       "spark_jobs": null,
       "spark_pool": "firstpoolv1",
       "state": "finished",
       "statement_id": 32
      },
      "text/plain": [
       "StatementMeta(firstpoolv1, 6, 32, Finished, Available)"
      ]
     },
     "metadata": {},
     "output_type": "display_data"
    }
   ],
   "source": [
    "df = newdatafram1[newdatafram1['rating'].notna()]"
   ]
  },
  {
   "cell_type": "code",
   "execution_count": 38,
   "metadata": {
    "jupyter": {
     "outputs_hidden": false,
     "source_hidden": false
    },
    "nteract": {
     "transient": {
      "deleting": false
     }
    }
   },
   "outputs": [
    {
     "data": {
      "application/vnd.livy.statement-meta+json": {
       "execution_finish_time": "2023-09-30T20:40:54.4693271Z",
       "execution_start_time": "2023-09-30T20:40:54.3045862Z",
       "livy_statement_state": "available",
       "parent_msg_id": "ec97f01f-cef5-4c5d-ad45-ac8055f25001",
       "queued_time": "2023-09-30T20:40:54.1525824Z",
       "session_id": "6",
       "session_start_time": null,
       "spark_jobs": null,
       "spark_pool": "firstpoolv1",
       "state": "finished",
       "statement_id": 39
      },
      "text/plain": [
       "StatementMeta(firstpoolv1, 6, 39, Finished, Available)"
      ]
     },
     "metadata": {},
     "output_type": "display_data"
    },
    {
     "data": {
      "text/plain": [
       "name           object\n",
       "rating         object\n",
       "reviews        object\n",
       "description    object\n",
       "dtype: object"
      ]
     },
     "execution_count": 79,
     "metadata": {},
     "output_type": "execute_result"
    }
   ],
   "source": [
    "df.dtypes"
   ]
  },
  {
   "cell_type": "code",
   "execution_count": 39,
   "metadata": {
    "jupyter": {
     "outputs_hidden": false,
     "source_hidden": false
    },
    "nteract": {
     "transient": {
      "deleting": false
     }
    }
   },
   "outputs": [
    {
     "data": {
      "application/vnd.livy.statement-meta+json": {
       "execution_finish_time": "2023-09-30T20:41:12.4198376Z",
       "execution_start_time": "2023-09-30T20:41:11.8532882Z",
       "livy_statement_state": "available",
       "parent_msg_id": "0e724457-c564-4522-bc79-6035e90dc45b",
       "queued_time": "2023-09-30T20:41:11.717868Z",
       "session_id": "6",
       "session_start_time": null,
       "spark_jobs": null,
       "spark_pool": "firstpoolv1",
       "state": "finished",
       "statement_id": 40
      },
      "text/plain": [
       "StatementMeta(firstpoolv1, 6, 40, Finished, Available)"
      ]
     },
     "metadata": {},
     "output_type": "display_data"
    }
   ],
   "source": [
    "framerating10 = df[df[\"rating\"] == '1.0'] \n",
    "framerating11 = df[df[\"rating\"] == '1.1'] \n",
    "framerating12 = df[df[\"rating\"] == '1.2'] \n",
    "framerating13 = df[df[\"rating\"] == '1.3'] \n",
    "framerating14 = df[df[\"rating\"] == '1.4']\n",
    "framerating15 = df[df[\"rating\"] == '1.5'] \n",
    "framerating16 = df[df[\"rating\"] == '1.6'] \n",
    "framerating17 = df[df[\"rating\"] == '1.7'] \n",
    "framerating18 = df[df[\"rating\"] == '1.8'] \n",
    "framerating19 = df[df[\"rating\"] == '1.9'] \n",
    "\n",
    "\n",
    "framerating20 = df[df[\"rating\"] == '2.0']\n",
    "framerating21 = df[df[\"rating\"] == '2.1']\n",
    "framerating22 = df[df[\"rating\"] == '2.2']\n",
    "framerating23 = df[df[\"rating\"] == '2.3']\n",
    "framerating24 = df[df[\"rating\"] == '2.5']\n",
    "framerating25 = df[df[\"rating\"] == '2.4']\n",
    "framerating26 = df[df[\"rating\"] == '2.6']\n",
    "framerating27 = df[df[\"rating\"] == '2.7']\n",
    "framerating28 = df[df[\"rating\"] == '2.8']\n",
    "framerating29 = df[df[\"rating\"] == '2.9']\n",
    "\n",
    "\n",
    "\n",
    "\n",
    "framerating30 = df[df[\"rating\"] == '3.0']\n",
    "framerating31 = df[df[\"rating\"] == '3.1']\n",
    "framerating32 = df[df[\"rating\"] == '3.2']\n",
    "framerating33 = df[df[\"rating\"] == '3.3']\n",
    "framerating34 = df[df[\"rating\"] == '3.4']\n",
    "framerating35 = df[df[\"rating\"] == '3.5']\n",
    "framerating36 = df[df[\"rating\"] == '3.6']\n",
    "framerating37 = df[df[\"rating\"] == '3.7']\n",
    "framerating38 = df[df[\"rating\"] == '3.8']\n",
    "framerating39 = df[df[\"rating\"] == '3.9']\n",
    "\n",
    "\n",
    "framerating40 = df[df[\"rating\"] == '4.0']\n",
    "framerating41 = df[df[\"rating\"] == '4.1']\n",
    "framerating42 = df[df[\"rating\"] == '4.2']\n",
    "framerating43 = df[df[\"rating\"] == '4.3']\n",
    "framerating44 = df[df[\"rating\"] == '4.4']\n",
    "framerating45 = df[df[\"rating\"] == '4.5']\n",
    "framerating46 = df[df[\"rating\"] == '4.6']\n",
    "framerating47 = df[df[\"rating\"] == '4.7']\n",
    "framerating48 = df[df[\"rating\"] == '4.8']\n",
    "framerating49 = df[df[\"rating\"] == '4.9'] \n",
    "\n",
    "\n",
    "framerating50 = df[df[\"rating\"] == '5.0'] \n",
    "framerating51 = df[df[\"rating\"] == '5.1'] \n",
    "framerating52 = df[df[\"rating\"] == '5.2'] \n",
    "framerating53 = df[df[\"rating\"] == '5.3'] \n",
    "framerating54 = df[df[\"rating\"] == '5.4'] \n",
    "framerating55 = df[df[\"rating\"] == '5.5'] \n",
    "framerating56 = df[df[\"rating\"] == '5.6'] \n",
    "framerating57 = df[df[\"rating\"] == '5.7'] \n",
    "framerating58 = df[df[\"rating\"] == '5.8'] \n",
    "framerating59 = df[df[\"rating\"] == '5.9'] \n",
    "\n",
    "\n",
    "newdatafram1 = pandasDF[['name','rating','reviews','description']]"
   ]
  },
  {
   "cell_type": "code",
   "execution_count": 42,
   "metadata": {
    "jupyter": {
     "outputs_hidden": false,
     "source_hidden": false
    },
    "nteract": {
     "transient": {
      "deleting": false
     }
    }
   },
   "outputs": [
    {
     "data": {
      "application/vnd.livy.statement-meta+json": {
       "execution_finish_time": "2023-09-30T20:43:57.2673139Z",
       "execution_start_time": "2023-09-30T20:43:57.1052269Z",
       "livy_statement_state": "available",
       "parent_msg_id": "0d4cd8a1-a086-44a0-b04e-c9298c729bc8",
       "queued_time": "2023-09-30T20:43:56.9715717Z",
       "session_id": "6",
       "session_start_time": null,
       "spark_jobs": null,
       "spark_pool": "firstpoolv1",
       "state": "finished",
       "statement_id": 43
      },
      "text/plain": [
       "StatementMeta(firstpoolv1, 6, 43, Finished, Available)"
      ]
     },
     "metadata": {},
     "output_type": "display_data"
    },
    {
     "name": "stdout",
     "output_type": "stream",
     "text": [
      "['1.1', '1.1', '1.1', '1.1', '1.1', '1.1']\n"
     ]
    }
   ],
   "source": [
    "# for i in df[\"rating\"]:\n",
    "#     if i == '1.0' or i < '2.0':\n",
    "#         print(i)\n",
    "\n",
    "count1 = []\n",
    "count12 = []\n",
    "count13 = []\n",
    "count14 = []\n",
    "count15 = []\n",
    "count16 = []\n",
    "count17 = []\n",
    "count18 = []\n",
    "count19 = []\n",
    "count10 = []\n",
    "count2 = []\n",
    "count22 = []\n",
    "count23 = []\n",
    "count24 = []\n",
    "count25 = []\n",
    "count26 = []\n",
    "count27 = []\n",
    "count28 = []\n",
    "count29 = []\n",
    "count3 = []\n",
    "count32 = []\n",
    "count33 = []\n",
    "count34 = []\n",
    "count35 = []\n",
    "count36 = []\n",
    "count37 = []\n",
    "count38 = []\n",
    "count39 = []\n",
    "count4 = []\n",
    "count23 = []\n",
    "count23 = []\n",
    "\n",
    "\n",
    "for i in df[\"rating\"]:\n",
    "    if i == \"1.0\":\n",
    "        countv.append(i)\n",
    "    if i == \"1.1\":\n",
    "        countv1.append(i)\n",
    "print(countv1)"
   ]
  },
  {
   "cell_type": "code",
   "execution_count": null,
   "metadata": {
    "jupyter": {
     "outputs_hidden": false,
     "source_hidden": false
    },
    "nteract": {
     "transient": {
      "deleting": false
     }
    }
   },
   "outputs": [],
   "source": [
    "desc1 = framerating5['description']\n",
    "desc1[:10]"
   ]
  },
  {
   "cell_type": "code",
   "execution_count": null,
   "metadata": {
    "jupyter": {
     "outputs_hidden": false,
     "source_hidden": false
    },
    "nteract": {
     "transient": {
      "deleting": false
     }
    }
   },
   "outputs": [],
   "source": [
    "desc1['Great'] = (framerating5[\"description\"].str.lower()\n",
    "                            .str.contains(\"great\", regex=False, na=False)\n",
    "                            .astype(int))"
   ]
  },
  {
   "cell_type": "code",
   "execution_count": 27,
   "metadata": {
    "jupyter": {
     "outputs_hidden": false,
     "source_hidden": false
    },
    "nteract": {
     "transient": {
      "deleting": false
     }
    }
   },
   "outputs": [
    {
     "data": {
      "application/vnd.livy.statement-meta+json": {
       "execution_finish_time": "2023-09-30T20:25:28.553284Z",
       "execution_start_time": "2023-09-30T20:25:28.3800339Z",
       "livy_statement_state": "available",
       "parent_msg_id": "bf5a21ab-1e67-4ec7-a36c-17d86aea9c33",
       "queued_time": "2023-09-30T20:25:28.2271355Z",
       "session_id": "6",
       "session_start_time": null,
       "spark_jobs": null,
       "spark_pool": "firstpoolv1",
       "state": "finished",
       "statement_id": 28
      },
      "text/plain": [
       "StatementMeta(firstpoolv1, 6, 28, Finished, Available)"
      ]
     },
     "metadata": {},
     "output_type": "display_data"
    },
    {
     "data": {
      "text/plain": [
       "3"
      ]
     },
     "execution_count": 57,
     "metadata": {},
     "output_type": "execute_result"
    }
   ],
   "source": [
    "framerating5['description'].str.contains('bank').sum()"
   ]
  },
  {
   "cell_type": "code",
   "execution_count": null,
   "metadata": {
    "jupyter": {
     "outputs_hidden": false,
     "source_hidden": false
    },
    "nteract": {
     "transient": {
      "deleting": false
     }
    }
   },
   "outputs": [],
   "source": [
    "\n",
    "substring = 'consulting'\n",
    "framerating4[framerating4.apply(lambda row: row.astype(str).str.contains(substring, case=False).any(), axis=1)]"
   ]
  },
  {
   "cell_type": "code",
   "execution_count": null,
   "metadata": {
    "jupyter": {
     "outputs_hidden": false,
     "source_hidden": false
    },
    "nteract": {
     "transient": {
      "deleting": false
     }
    }
   },
   "outputs": [],
   "source": []
  }
 ],
 "metadata": {
  "description": null,
  "kernelspec": {
   "display_name": "Python 3 (ipykernel)",
   "language": "python",
   "name": "python3"
  },
  "language_info": {
   "codemirror_mode": {
    "name": "ipython",
    "version": 3
   },
   "file_extension": ".py",
   "mimetype": "text/x-python",
   "name": "python",
   "nbconvert_exporter": "python",
   "pygments_lexer": "ipython3",
   "version": "3.11.5"
  },
  "save_output": true,
  "synapse_widget": {
   "state": {},
   "version": "0.1"
  }
 },
 "nbformat": 4,
 "nbformat_minor": 2
}
